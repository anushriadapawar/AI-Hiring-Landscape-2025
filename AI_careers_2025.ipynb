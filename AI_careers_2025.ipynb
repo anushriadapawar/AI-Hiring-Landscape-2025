{
 "cells": [
  {
   "cell_type": "code",
   "execution_count": 1,
   "id": "7ef34c6d-1bbc-441b-bf25-f6826f9c096b",
   "metadata": {},
   "outputs": [],
   "source": [
    "# 1. IMPORT LIBRARIES\n",
    "import pandas as pd\n",
    "import numpy as np\n",
    "import matplotlib.pyplot as plt\n",
    "import seaborn as sns\n",
    "\n",
    "from sklearn.model_selection import train_test_split, GridSearchCV\n",
    "from sklearn.preprocessing import LabelEncoder, OneHotEncoder, StandardScaler\n",
    "from sklearn.ensemble import RandomForestClassifier, RandomForestRegressor\n",
    "from sklearn.metrics import classification_report, confusion_matrix, accuracy_score, mean_absolute_error, mean_squared_error, r2_score\n",
    "import pickle\n",
    "import warnings\n",
    "warnings.filterwarnings('ignore')"
   ]
  },
  {
   "cell_type": "code",
   "execution_count": 2,
   "id": "bac8db4e-4d33-4d86-8059-8b0bce97b7ee",
   "metadata": {},
   "outputs": [
    {
     "name": "stdout",
     "output_type": "stream",
     "text": [
      "Data shape: (15000, 19)\n"
     ]
    },
    {
     "data": {
      "text/html": [
       "<div>\n",
       "<style scoped>\n",
       "    .dataframe tbody tr th:only-of-type {\n",
       "        vertical-align: middle;\n",
       "    }\n",
       "\n",
       "    .dataframe tbody tr th {\n",
       "        vertical-align: top;\n",
       "    }\n",
       "\n",
       "    .dataframe thead th {\n",
       "        text-align: right;\n",
       "    }\n",
       "</style>\n",
       "<table border=\"1\" class=\"dataframe\">\n",
       "  <thead>\n",
       "    <tr style=\"text-align: right;\">\n",
       "      <th></th>\n",
       "      <th>job_id</th>\n",
       "      <th>job_title</th>\n",
       "      <th>salary_usd</th>\n",
       "      <th>salary_currency</th>\n",
       "      <th>experience_level</th>\n",
       "      <th>employment_type</th>\n",
       "      <th>company_location</th>\n",
       "      <th>company_size</th>\n",
       "      <th>employee_residence</th>\n",
       "      <th>remote_ratio</th>\n",
       "      <th>required_skills</th>\n",
       "      <th>education_required</th>\n",
       "      <th>years_experience</th>\n",
       "      <th>industry</th>\n",
       "      <th>posting_date</th>\n",
       "      <th>application_deadline</th>\n",
       "      <th>job_description_length</th>\n",
       "      <th>benefits_score</th>\n",
       "      <th>company_name</th>\n",
       "    </tr>\n",
       "  </thead>\n",
       "  <tbody>\n",
       "    <tr>\n",
       "      <th>0</th>\n",
       "      <td>AI00001</td>\n",
       "      <td>AI Research Scientist</td>\n",
       "      <td>90376</td>\n",
       "      <td>USD</td>\n",
       "      <td>SE</td>\n",
       "      <td>CT</td>\n",
       "      <td>China</td>\n",
       "      <td>M</td>\n",
       "      <td>China</td>\n",
       "      <td>50</td>\n",
       "      <td>Tableau, PyTorch, Kubernetes, Linux, NLP</td>\n",
       "      <td>Bachelor</td>\n",
       "      <td>9</td>\n",
       "      <td>Automotive</td>\n",
       "      <td>2024-10-18</td>\n",
       "      <td>2024-11-07</td>\n",
       "      <td>1076</td>\n",
       "      <td>5.9</td>\n",
       "      <td>Smart Analytics</td>\n",
       "    </tr>\n",
       "    <tr>\n",
       "      <th>1</th>\n",
       "      <td>AI00002</td>\n",
       "      <td>AI Software Engineer</td>\n",
       "      <td>61895</td>\n",
       "      <td>USD</td>\n",
       "      <td>EN</td>\n",
       "      <td>CT</td>\n",
       "      <td>Canada</td>\n",
       "      <td>M</td>\n",
       "      <td>Ireland</td>\n",
       "      <td>100</td>\n",
       "      <td>Deep Learning, AWS, Mathematics, Python, Docker</td>\n",
       "      <td>Master</td>\n",
       "      <td>1</td>\n",
       "      <td>Media</td>\n",
       "      <td>2024-11-20</td>\n",
       "      <td>2025-01-11</td>\n",
       "      <td>1268</td>\n",
       "      <td>5.2</td>\n",
       "      <td>TechCorp Inc</td>\n",
       "    </tr>\n",
       "    <tr>\n",
       "      <th>2</th>\n",
       "      <td>AI00003</td>\n",
       "      <td>AI Specialist</td>\n",
       "      <td>152626</td>\n",
       "      <td>USD</td>\n",
       "      <td>MI</td>\n",
       "      <td>FL</td>\n",
       "      <td>Switzerland</td>\n",
       "      <td>L</td>\n",
       "      <td>South Korea</td>\n",
       "      <td>0</td>\n",
       "      <td>Kubernetes, Deep Learning, Java, Hadoop, NLP</td>\n",
       "      <td>Associate</td>\n",
       "      <td>2</td>\n",
       "      <td>Education</td>\n",
       "      <td>2025-03-18</td>\n",
       "      <td>2025-04-07</td>\n",
       "      <td>1974</td>\n",
       "      <td>9.4</td>\n",
       "      <td>Autonomous Tech</td>\n",
       "    </tr>\n",
       "    <tr>\n",
       "      <th>3</th>\n",
       "      <td>AI00004</td>\n",
       "      <td>NLP Engineer</td>\n",
       "      <td>80215</td>\n",
       "      <td>USD</td>\n",
       "      <td>SE</td>\n",
       "      <td>FL</td>\n",
       "      <td>India</td>\n",
       "      <td>M</td>\n",
       "      <td>India</td>\n",
       "      <td>50</td>\n",
       "      <td>Scala, SQL, Linux, Python</td>\n",
       "      <td>PhD</td>\n",
       "      <td>7</td>\n",
       "      <td>Consulting</td>\n",
       "      <td>2024-12-23</td>\n",
       "      <td>2025-02-24</td>\n",
       "      <td>1345</td>\n",
       "      <td>8.6</td>\n",
       "      <td>Future Systems</td>\n",
       "    </tr>\n",
       "    <tr>\n",
       "      <th>4</th>\n",
       "      <td>AI00005</td>\n",
       "      <td>AI Consultant</td>\n",
       "      <td>54624</td>\n",
       "      <td>EUR</td>\n",
       "      <td>EN</td>\n",
       "      <td>PT</td>\n",
       "      <td>France</td>\n",
       "      <td>S</td>\n",
       "      <td>Singapore</td>\n",
       "      <td>100</td>\n",
       "      <td>MLOps, Java, Tableau, Python</td>\n",
       "      <td>Master</td>\n",
       "      <td>0</td>\n",
       "      <td>Media</td>\n",
       "      <td>2025-04-15</td>\n",
       "      <td>2025-06-23</td>\n",
       "      <td>1989</td>\n",
       "      <td>6.6</td>\n",
       "      <td>Advanced Robotics</td>\n",
       "    </tr>\n",
       "  </tbody>\n",
       "</table>\n",
       "</div>"
      ],
      "text/plain": [
       "    job_id              job_title  salary_usd salary_currency  \\\n",
       "0  AI00001  AI Research Scientist       90376             USD   \n",
       "1  AI00002   AI Software Engineer       61895             USD   \n",
       "2  AI00003          AI Specialist      152626             USD   \n",
       "3  AI00004           NLP Engineer       80215             USD   \n",
       "4  AI00005          AI Consultant       54624             EUR   \n",
       "\n",
       "  experience_level employment_type company_location company_size  \\\n",
       "0               SE              CT            China            M   \n",
       "1               EN              CT           Canada            M   \n",
       "2               MI              FL      Switzerland            L   \n",
       "3               SE              FL            India            M   \n",
       "4               EN              PT           France            S   \n",
       "\n",
       "  employee_residence  remote_ratio  \\\n",
       "0              China            50   \n",
       "1            Ireland           100   \n",
       "2        South Korea             0   \n",
       "3              India            50   \n",
       "4          Singapore           100   \n",
       "\n",
       "                                   required_skills education_required  \\\n",
       "0         Tableau, PyTorch, Kubernetes, Linux, NLP           Bachelor   \n",
       "1  Deep Learning, AWS, Mathematics, Python, Docker             Master   \n",
       "2     Kubernetes, Deep Learning, Java, Hadoop, NLP          Associate   \n",
       "3                        Scala, SQL, Linux, Python                PhD   \n",
       "4                     MLOps, Java, Tableau, Python             Master   \n",
       "\n",
       "   years_experience    industry posting_date application_deadline  \\\n",
       "0                 9  Automotive   2024-10-18           2024-11-07   \n",
       "1                 1       Media   2024-11-20           2025-01-11   \n",
       "2                 2   Education   2025-03-18           2025-04-07   \n",
       "3                 7  Consulting   2024-12-23           2025-02-24   \n",
       "4                 0       Media   2025-04-15           2025-06-23   \n",
       "\n",
       "   job_description_length  benefits_score       company_name  \n",
       "0                    1076             5.9    Smart Analytics  \n",
       "1                    1268             5.2       TechCorp Inc  \n",
       "2                    1974             9.4    Autonomous Tech  \n",
       "3                    1345             8.6     Future Systems  \n",
       "4                    1989             6.6  Advanced Robotics  "
      ]
     },
     "execution_count": 2,
     "metadata": {},
     "output_type": "execute_result"
    }
   ],
   "source": [
    "# 2. LOAD DATA\n",
    "df = pd.read_csv(\"ai_job_dataset.csv\")  # place dataset in same folder\n",
    "print(\"Data shape:\", df.shape)\n",
    "df.head()"
   ]
  },
  {
   "cell_type": "code",
   "execution_count": 3,
   "id": "9e115501-3808-4f47-82f6-a2878c259542",
   "metadata": {},
   "outputs": [
    {
     "data": {
      "text/plain": [
       "Index(['job_id', 'job_title', 'salary_usd', 'salary_currency',\n",
       "       'experience_level', 'employment_type', 'company_location',\n",
       "       'company_size', 'employee_residence', 'remote_ratio', 'required_skills',\n",
       "       'education_required', 'years_experience', 'industry', 'posting_date',\n",
       "       'application_deadline', 'job_description_length', 'benefits_score',\n",
       "       'company_name'],\n",
       "      dtype='object')"
      ]
     },
     "execution_count": 3,
     "metadata": {},
     "output_type": "execute_result"
    }
   ],
   "source": [
    "df.columns"
   ]
  },
  {
   "cell_type": "code",
   "execution_count": 4,
   "id": "81e61735-95d8-477c-a27a-deca6598c390",
   "metadata": {},
   "outputs": [
    {
     "data": {
      "text/plain": [
       "job_title\n",
       "Machine Learning Researcher    808\n",
       "AI Software Engineer           784\n",
       "Autonomous Systems Engineer    777\n",
       "Machine Learning Engineer      772\n",
       "AI Architect                   771\n",
       "Head of AI                     765\n",
       "NLP Engineer                   762\n",
       "Robotics Engineer              759\n",
       "Data Analyst                   759\n",
       "AI Research Scientist          756\n",
       "Data Engineer                  749\n",
       "AI Product Manager             743\n",
       "Research Scientist             742\n",
       "Principal Data Scientist       734\n",
       "AI Specialist                  728\n",
       "ML Ops Engineer                725\n",
       "Computer Vision Engineer       724\n",
       "Data Scientist                 720\n",
       "Deep Learning Engineer         718\n",
       "AI Consultant                  704\n",
       "Name: count, dtype: int64"
      ]
     },
     "execution_count": 4,
     "metadata": {},
     "output_type": "execute_result"
    }
   ],
   "source": [
    "# Preview the job title distribution\n",
    "job_title_counts = df['job_title'].value_counts()\n",
    "job_title_counts"
   ]
  },
  {
   "cell_type": "code",
   "execution_count": 5,
   "id": "5cb667dd-f778-48c0-8339-521e57ff74c4",
   "metadata": {},
   "outputs": [
    {
     "name": "stdout",
     "output_type": "stream",
     "text": [
      "Index(['job_id', 'job_title', 'salary_currency', 'experience_level',\n",
      "       'employment_type', 'company_location', 'company_size',\n",
      "       'employee_residence', 'required_skills', 'education_required',\n",
      "       'industry', 'posting_date', 'application_deadline', 'company_name'],\n",
      "      dtype='object')\n"
     ]
    }
   ],
   "source": [
    "categorical_cols = df.select_dtypes(include=['object']).columns\n",
    "print(categorical_cols)"
   ]
  },
  {
   "cell_type": "code",
   "execution_count": 6,
   "id": "74d1792a-123d-41b4-86bf-25c4e902d4d7",
   "metadata": {},
   "outputs": [
    {
     "data": {
      "text/plain": [
       "job_id                    0\n",
       "job_title                 0\n",
       "salary_usd                0\n",
       "salary_currency           0\n",
       "experience_level          0\n",
       "employment_type           0\n",
       "company_location          0\n",
       "company_size              0\n",
       "employee_residence        0\n",
       "remote_ratio              0\n",
       "required_skills           0\n",
       "education_required        0\n",
       "years_experience          0\n",
       "industry                  0\n",
       "posting_date              0\n",
       "application_deadline      0\n",
       "job_description_length    0\n",
       "benefits_score            0\n",
       "company_name              0\n",
       "dtype: int64"
      ]
     },
     "execution_count": 6,
     "metadata": {},
     "output_type": "execute_result"
    }
   ],
   "source": [
    "df.isnull().sum()"
   ]
  },
  {
   "cell_type": "code",
   "execution_count": 7,
   "id": "979de239-fb20-4c97-afe2-9280b1c7e9af",
   "metadata": {},
   "outputs": [
    {
     "data": {
      "text/plain": [
       "0"
      ]
     },
     "execution_count": 7,
     "metadata": {},
     "output_type": "execute_result"
    }
   ],
   "source": [
    "df.duplicated().sum()"
   ]
  },
  {
   "cell_type": "code",
   "execution_count": 17,
   "id": "f8fcd363-f556-451a-a9cd-b60b2f733acc",
   "metadata": {},
   "outputs": [
    {
     "data": {
      "text/plain": [
       "\"df.drop_duplicates(inplace=True)\\ndf.dropna(subset=['job_title', 'salary_usd'], inplace=True)\\n\\n# Fill missing values\\ndf['education_required'].fillna('Unknown', inplace=True)\\ndf['benefits_score'].fillna(df['benefits_score'].mean(), inplace=True)\""
      ]
     },
     "execution_count": 17,
     "metadata": {},
     "output_type": "execute_result"
    }
   ],
   "source": [
    "# 3. DATA PREPROCESSING\n",
    "'''df.drop_duplicates(inplace=True)\n",
    "df.dropna(subset=['job_title', 'salary_usd'], inplace=True)\n",
    "\n",
    "# Fill missing values\n",
    "df['education_required'].fillna('Unknown', inplace=True)\n",
    "df['benefits_score'].fillna(df['benefits_score'].mean(), inplace=True)"
   ]
  },
  {
   "cell_type": "code",
   "execution_count": 9,
   "id": "d83e1213-77c9-40e3-b32b-2232746c7c14",
   "metadata": {},
   "outputs": [],
   "source": [
    "# Encode target variable for classification\n",
    "'''top_roles = df['job_title'].value_counts().head(10).index\n",
    "df['job_title'] = df['job_title'].apply(lambda x: x if x in top_roles else 'Other')'''\n",
    "\n",
    "#top_roles = df['job_title'].value_counts().head(10).index\n",
    "#df = df[df['job_title'].isin(top_roles)].copy()\n",
    "\n",
    "def map_job_title(title):\n",
    "    if 'Engineer' in title:\n",
    "        return 'Engineer'\n",
    "    elif 'Scientist' in title or 'Researcher' in title:\n",
    "        return 'Scientist'\n",
    "    elif 'Manager' in title:\n",
    "        return 'Manager'\n",
    "    elif 'Analyst' in title:\n",
    "        return 'Analyst'\n",
    "    elif 'Consultant' in title:\n",
    "        return 'Consultant'\n",
    "    elif 'Head' in title or 'Architect' in title or 'Principal' in title:\n",
    "        return 'Leadership'\n",
    "    else:\n",
    "        return 'Other'\n",
    "\n",
    "df['job_category'] = df['job_title'].apply(map_job_title)\n",
    "\n",
    "\n",
    "# Encode categorical variables\n",
    "categorical_cols = ['experience_level', 'employment_type', 'company_location',\n",
    "                    'employee_residence', 'education_required', 'industry', 'company_size']\n",
    "\n",
    "df_encoded = pd.get_dummies(df, columns=categorical_cols)\n",
    "\n",
    "# Feature selection\n",
    "features = ['remote_ratio', 'years_experience', 'job_description_length', 'benefits_score']\n",
    "features += [col for col in df_encoded.columns if col.startswith(tuple(categorical_cols))]\n",
    "\n",
    "X_class = df_encoded[features]\n",
    "#y_class = df_encoded['job_title']\n",
    "y_class = df['job_category']\n",
    "\n",
    "# Encode target for regression\n",
    "# REGRESSION: Predicting salary based on all relevant features, including job title (encoded)\n",
    "label_enc = LabelEncoder()\n",
    "df_encoded['job_title_encoded'] = label_enc.fit_transform(df['job_title'])\n",
    "\n",
    "X_reg = df_encoded[features + ['job_title_encoded']]\n",
    "y_reg = df_encoded['salary_usd']"
   ]
  },
  {
   "cell_type": "code",
   "execution_count": 10,
   "id": "ad726e97-a452-4fa1-95ef-c45f02b4cec9",
   "metadata": {},
   "outputs": [],
   "source": [
    "# 4. TRAIN/TEST SPLIT\n",
    "Xc_train, Xc_test, yc_train, yc_test = train_test_split(X_class, y_class, test_size=0.2, random_state=42)\n",
    "Xr_train, Xr_test, yr_train, yr_test = train_test_split(X_reg, y_reg, test_size=0.2, random_state=42)"
   ]
  },
  {
   "cell_type": "code",
   "execution_count": 11,
   "id": "73fe93a4-de3f-45ab-aca5-30795d37f3b8",
   "metadata": {},
   "outputs": [],
   "source": [
    "# 5. MODEL TRAINING\n",
    "\n",
    "# CLASSIFICATION - Predicting job_title\n",
    "clf = RandomForestClassifier(n_estimators=100, random_state=42)\n",
    "clf.fit(Xc_train, yc_train)\n",
    "yc_pred = clf.predict(Xc_test)\n",
    "\n",
    "# REGRESSION - Predicting salary\n",
    "reg = RandomForestRegressor(n_estimators=100, random_state=42)\n",
    "reg.fit(Xr_train, yr_train)\n",
    "yr_pred = reg.predict(Xr_test)"
   ]
  },
  {
   "cell_type": "code",
   "execution_count": 12,
   "id": "e746eabc-b7e9-4f34-9953-fe99afb6f2f1",
   "metadata": {},
   "outputs": [
    {
     "name": "stdout",
     "output_type": "stream",
     "text": [
      "Classification Accuracy: 0.42866666666666664\n",
      "\n",
      "Classification Report:\n",
      "               precision    recall  f1-score   support\n",
      "\n",
      "     Analyst       0.00      0.00      0.00       146\n",
      "  Consultant       0.00      0.00      0.00       142\n",
      "    Engineer       0.44      0.93      0.60      1327\n",
      "  Leadership       0.22      0.01      0.01       323\n",
      "     Manager       0.00      0.00      0.00       157\n",
      "       Other       0.00      0.00      0.00       144\n",
      "   Scientist       0.25      0.07      0.11       761\n",
      "\n",
      "    accuracy                           0.43      3000\n",
      "   macro avg       0.13      0.14      0.10      3000\n",
      "weighted avg       0.28      0.43      0.29      3000\n",
      "\n"
     ]
    },
    {
     "data": {
      "image/png": "[encoded data removed]",
      "text/plain": [
       "<Figure size 640x480 with 2 Axes>"
      ]
     },
     "metadata": {},
     "output_type": "display_data"
    },
    {
     "name": "stdout",
     "output_type": "stream",
     "text": [
      "\n",
      "Regression R² Score: 0.8734064588107209\n",
      "MAE: 15304.558083333333\n",
      "RMSE: 21487.449962977505\n"
     ]
    }
   ],
   "source": [
    "# 6. EVALUATION\n",
    "\n",
    "# CLASSIFICATION REPORT\n",
    "print(\"Classification Accuracy:\", accuracy_score(yc_test, yc_pred))\n",
    "print(\"\\nClassification Report:\\n\", classification_report(yc_test, yc_pred))\n",
    "conf_mat = confusion_matrix(yc_test, yc_pred)\n",
    "sns.heatmap(conf_mat, annot=True, fmt='d', cmap='viridis')\n",
    "plt.title(\"Confusion Matrix - Job Title Prediction\")\n",
    "plt.xlabel(\"Predicted\")\n",
    "plt.ylabel(\"Actual\")\n",
    "plt.show()\n",
    "\n",
    "# REGRESSION REPORT\n",
    "print(\"\\nRegression R² Score:\", r2_score(yr_test, yr_pred))\n",
    "print(\"MAE:\", mean_absolute_error(yr_test, yr_pred))\n",
    "print(\"RMSE:\", np.sqrt(mean_squared_error(yr_test, yr_pred)))"
   ]
  },
  {
   "cell_type": "code",
   "execution_count": 13,
   "id": "fa0734a6-94de-4444-8eed-9ca4634c7d8f",
   "metadata": {},
   "outputs": [
    {
     "data": {
      "text/plain": [
       "'with open(\"job_title_classifier.pkl\", \"wb\") as f:\\n    pickle.dump(clf, f)\\n\\nwith open(\"salary_predictor.pkl\", \"wb\") as f:\\n    pickle.dump(reg, f)'"
      ]
     },
     "execution_count": 13,
     "metadata": {},
     "output_type": "execute_result"
    }
   ],
   "source": [
    "# 7. SAVE MODELS\n",
    "'''with open(\"job_title_classifier.pkl\", \"wb\") as f:\n",
    "    pickle.dump(clf, f)\n",
    "\n",
    "with open(\"salary_predictor.pkl\", \"wb\") as f:\n",
    "    pickle.dump(reg, f)'''"
   ]
  },
  {
   "cell_type": "code",
   "execution_count": 34,
   "id": "fc3e59b2-9f8e-4e73-a2af-aefc1e1ddb76",
   "metadata": {},
   "outputs": [
    {
     "name": "stdout",
     "output_type": "stream",
     "text": [
      "Predicted Job Title: Scientist\n",
      "Predicted Salary (USD): 141585.52\n"
     ]
    }
   ],
   "source": [
    "# 8. SAMPLE PREDICTION\n",
    "# Use a random row from test set\n",
    "sample_input = Xc_test.sample(1)\n",
    "print(\"Predicted Job Title:\", clf.predict(sample_input)[0])\n",
    "\n",
    "sample_input_r = Xr_test.sample(1)\n",
    "print(\"Predicted Salary (USD):\", reg.predict(sample_input_r)[0])"
   ]
  },
  {
   "cell_type": "code",
   "execution_count": null,
   "id": "701179b9-9841-49e1-8ad3-7866d9b5a7b1",
   "metadata": {},
   "outputs": [],
   "source": []
  }
 ],
 "metadata": {
  "kernelspec": {
   "display_name": "Python [conda env:base] *",
   "language": "python",
   "name": "conda-base-py"
  },
  "language_info": {
   "codemirror_mode": {
    "name": "ipython",
    "version": 3
   },
   "file_extension": ".py",
   "mimetype": "text/x-python",
   "name": "python",
   "nbconvert_exporter": "python",
   "pygments_lexer": "ipython3",
   "version": "3.12.7"
  }
 },
 "nbformat": 4,
 "nbformat_minor": 5
}
